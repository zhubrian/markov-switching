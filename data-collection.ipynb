{
 "cells": [
  {
   "cell_type": "code",
   "execution_count": null,
   "metadata": {},
   "outputs": [],
   "source": [
    "import datetime\n",
    "import numpy as np\n",
    "import pandas as pd\n",
    "import time\n",
    "from datetime import date, timedelta\n",
    "from pycoingecko import CoinGeckoAPI\n",
    "cg = CoinGeckoAPI()"
   ]
  },
  {
   "cell_type": "markdown",
   "metadata": {},
   "source": [
    "# Get crypto data"
   ]
  },
  {
   "cell_type": "code",
   "execution_count": null,
   "metadata": {},
   "outputs": [],
   "source": [
    "def get_date_list(start_date,stop_date):\n",
    "    date_list = []\n",
    "    curr_date = start_date\n",
    "    while curr_date <= stop_date:\n",
    "        date_list.append(curr_date.strftime(\"%d-%m-%Y\"))\n",
    "        curr_date += timedelta(days=1)\n",
    "    return date_list"
   ]
  },
  {
   "cell_type": "code",
   "execution_count": null,
   "metadata": {},
   "outputs": [],
   "source": [
    "start_date = date(2020,10,14)\n",
    "stop_date = date(2021,12,13)\n",
    "date_list = get_date_list(start_date,stop_date)\n",
    "coin_list = ['bitcoin', 'ethereum', 'binancecoin', 'solana', 'cardano', 'ripple',\n",
    "             'polkadot', 'dogecoin', 'terra-luna', 'avalanche-2', 'enjincoin',\n",
    "             'crypto-com-chain', 'matic-network', 'wrapped-bitcoin', 'litecoin',\n",
    "             'tron', 'algorand', 'chainlink', 'bitcoin-cash', 'okb', 'uniswap',\n",
    "             'stellar', 'cosmos', 'compound-ether', 'maker', 'ftx-token', 'vechain',\n",
    "             'aave', 'elrond-erd-2', 'ethereum-classic', 'the-sandbox',\n",
    "             'decentraland', 'hedera-hashgraph', 'theta-token', 'blockstack',\n",
    "             'tezos', 'leo-token', 'monero', 'fantom', 'harmony', 'eos', 'iota',\n",
    "             'arweave', 'bittorrent-2', 'helium', 'loopring', 'kusama',\n",
    "             'quant-network', 'thorchain', 'bitcoin-cash-sv', 'neo', 'zcash',\n",
    "             'celsius-degree-token', 'kucoin-shares', 'kadena',\n",
    "             'basic-attention-token', 'huobi-token', 'waves', 'chiliz', 'holotoken',\n",
    "             'dash', 'curve-dao-token', 'nexo', 'compound-governance-token', 'sushi',\n",
    "             'nem', 'iotex', 'gatechain-token', 'nxm', 'ravencoin', 'decred', 'wax',\n",
    "             'omisego', 'livepeer', 'ankr', 'zilliqa', 'icon', 'gnosis', 'siacoin',\n",
    "             'bancor', 'rocket-pool', 'telcoin', 'zencash', 'iostoken', 'golem',\n",
    "             '0x', 'secret', 'swissborg', 'ontology', 'uma', 'nervos-network',\n",
    "             'hive', 'digibyte', 'republic-protocol', 'wazirx', 'perpetual-protocol',\n",
    "             'velas', 'syscoin', 'flex-coin', 'kava']"
   ]
  },
  {
   "cell_type": "code",
   "execution_count": null,
   "metadata": {
    "scrolled": true
   },
   "outputs": [],
   "source": [
    "price = np.zeros((len(date_list),len(coin_list)))\n",
    "mktcap = np.zeros((len(date_list),len(coin_list)))\n",
    "volume = np.zeros((len(date_list),len(coin_list)))\n",
    "for t in range(390,len(date_list)):\n",
    "    for i in range(len(coin_list)):\n",
    "        hist = cg.get_coin_history_by_id(date=date_list[t],id=coin_list[i],localization='false')\n",
    "        try:\n",
    "            price[t,i] = hist['market_data']['current_price']['usd']\n",
    "            mktcap[t,i] = hist['market_data']['market_cap']['usd']\n",
    "            volume[t,i] = hist['market_data']['total_volume']['usd']       \n",
    "        except KeyError:\n",
    "            price[t,i] = price[t-1,i]\n",
    "            mktcap[t,i] = mktcap[t-1,i]\n",
    "            volume[t,i] = volume[t-1,i]\n",
    "            print(date_list[t],coin_list[i],\"EXCEPTION\")\n",
    "        time.sleep(1.21)\n",
    "    print(date_list[t],\"done\")"
   ]
  },
  {
   "cell_type": "code",
   "execution_count": null,
   "metadata": {},
   "outputs": [],
   "source": [
    "price_df = pd.DataFrame(price,index=date_list,columns=coin_list)\n",
    "mktcap_df = pd.DataFrame(mktcap,index=date_list,columns=coin_list)\n",
    "volume_df = pd.DataFrame(volume,index=date_list,columns=coin_list)\n",
    "\n",
    "price_df.to_csv(r\"C:\\Users\\zhubr\\OneDrive\\Desktop\\ECON 419\\econ419-paper-data\\price-extra.csv\")\n",
    "mktcap_df.to_csv(r\"C:\\Users\\zhubr\\OneDrive\\Desktop\\ECON 419\\econ419-paper-data\\mktcap-extra.csv\")\n",
    "volume_df.to_csv(r\"C:\\Users\\zhubr\\OneDrive\\Desktop\\ECON 419\\econ419-paper-data\\volume-extra.csv\")"
   ]
  },
  {
   "cell_type": "markdown",
   "metadata": {},
   "source": [
    "# Get T-bill data"
   ]
  },
  {
   "cell_type": "code",
   "execution_count": null,
   "metadata": {},
   "outputs": [],
   "source": [
    "tbill1m = pd.read_csv(r\"C:\\Users\\zhubr\\Desktop\\ECON 419\\econ419-paper\\tbill1m.csv\")\n",
    "tbill1m_date_list = []\n",
    "for t in range(len(tbill1m)):\n",
    "    curr_date = datetime.datetime.strptime(tbill1m['Date'][t],'%d/%m/%Y')\n",
    "    tbill1m_date_list.append(curr_date.strftime(\"%d-%m-%Y\"))"
   ]
  },
  {
   "cell_type": "code",
   "execution_count": null,
   "metadata": {},
   "outputs": [],
   "source": [
    "rfrate = np.zeros(len(date_list))\n",
    "for s in range(len(date_list)):\n",
    "    date_found = 0\n",
    "    for t in range(len(tbill1m_date_list)):\n",
    "        if date_list[s] == tbill1m_date_list[t]:\n",
    "            rfrate[s] = tbill1m['1M'][t]\n",
    "            date_found = 1\n",
    "    if date_found == 0:\n",
    "        rfrate[s] = rfrate[s-1]"
   ]
  },
  {
   "cell_type": "code",
   "execution_count": null,
   "metadata": {},
   "outputs": [],
   "source": [
    "rfrate_df = pd.DataFrame(rfrate,index=date_list,columns=['tbill_1m'])\n",
    "rfrate_df.to_csv(r\"C:\\Users\\zhubr\\Desktop\\ECON 419\\econ419-paper\\rfrate.csv\")"
   ]
  }
 ],
 "metadata": {
  "kernelspec": {
   "display_name": "Python 3",
   "language": "python",
   "name": "python3"
  },
  "language_info": {
   "codemirror_mode": {
    "name": "ipython",
    "version": 3
   },
   "file_extension": ".py",
   "mimetype": "text/x-python",
   "name": "python",
   "nbconvert_exporter": "python",
   "pygments_lexer": "ipython3",
   "version": "3.8.5"
  }
 },
 "nbformat": 4,
 "nbformat_minor": 4
}
